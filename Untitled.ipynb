{
 "cells": [
  {
   "cell_type": "code",
   "execution_count": 16,
   "metadata": {},
   "outputs": [],
   "source": [
    "from docxtpl import DocxTemplate\n",
    "\n",
    "tpl = DocxTemplate(\"new.docx\") # In same directory\n",
    "\n",
    "context = { 'Heading' : \"World company\" }\n",
    "context = { 'seminari1' : \"1 World AFAF aDFASDF company\" }\n",
    "#context = { 'Seminari2' : \"2 World company A;FLKDlj ADKLJKDj ;saldj;LDJ \" }\n",
    "#context = { 'Seminari3' : \"3 World company LSKdjDLJ DJ \" }\n",
    "#context = { 'Seminari4' : \"4 World company ;lakjdf; LFKJL\" }\n",
    "#context = { 'Seminari5' : \"5 World company ADJFN ;AC;ROcr\" }\n",
    "\n",
    "tpl.render(context)\n",
    "\n",
    "tpl.save(\"generated_doc.docx\")"
   ]
  },
  {
   "cell_type": "code",
   "execution_count": null,
   "metadata": {},
   "outputs": [],
   "source": []
  },
  {
   "cell_type": "code",
   "execution_count": null,
   "metadata": {},
   "outputs": [],
   "source": []
  }
 ],
 "metadata": {
  "kernelspec": {
   "display_name": "Python 3",
   "language": "python",
   "name": "python3"
  },
  "language_info": {
   "codemirror_mode": {
    "name": "ipython",
    "version": 3
   },
   "file_extension": ".py",
   "mimetype": "text/x-python",
   "name": "python",
   "nbconvert_exporter": "python",
   "pygments_lexer": "ipython3",
   "version": "3.8.5"
  }
 },
 "nbformat": 4,
 "nbformat_minor": 4
}
